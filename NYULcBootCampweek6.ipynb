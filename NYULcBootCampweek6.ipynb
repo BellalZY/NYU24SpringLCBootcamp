{
 "cells": [
  {
   "cell_type": "code",
   "execution_count": null,
   "id": "cf503ccf",
   "metadata": {},
   "outputs": [],
   "source": [
    "# Lowest Common Ancestor of a Binary Tree"
   ]
  },
  {
   "cell_type": "code",
   "execution_count": null,
   "id": "37a79588",
   "metadata": {},
   "outputs": [],
   "source": [
    "class Solution:\n",
    "    def lowestCommonAncestor(self, root: 'TreeNode', p: 'TreeNode', q: 'TreeNode') -> 'TreeNode':\n",
    "        if not root or root == p or root == q:\n",
    "            return root\n",
    "\n",
    "        l = self.lowestCommonAncestor(root.left, p, q)\n",
    "        r = self.lowestCommonAncestor(root.right, p, q)\n",
    "\n",
    "        if l and r:\n",
    "            return root\n",
    "        return l or r"
   ]
  },
  {
   "cell_type": "code",
   "execution_count": null,
   "id": "8afcd0ae",
   "metadata": {},
   "outputs": [],
   "source": [
    "# Word Break"
   ]
  },
  {
   "cell_type": "code",
   "execution_count": null,
   "id": "4dc3cbd4",
   "metadata": {},
   "outputs": [],
   "source": [
    "class Solution:\n",
    "    def wordBreak(self, s: str, wordDict: List[str]) -> bool:\n",
    "\n",
    "        def createMap(cur, wordDict, map={}):\n",
    "            if not cur:\n",
    "                return True\n",
    "            if cur in map:\n",
    "                return map[cur]\n",
    "            for word in wordDict:\n",
    "                if cur.startswith(word):\n",
    "                    newcur = cur[len(word):]\n",
    "                    if createMap(newcur, wordDict, map):\n",
    "                        map[cur] = True\n",
    "                        return True\n",
    "            \n",
    "            map[cur] = False\n",
    "            return False\n",
    "        \n",
    "        return createMap(s, wordDict)"
   ]
  },
  {
   "cell_type": "code",
   "execution_count": null,
   "id": "ac6013fc",
   "metadata": {},
   "outputs": [],
   "source": [
    "# Kth Largest Element in an Array"
   ]
  },
  {
   "cell_type": "code",
   "execution_count": null,
   "id": "b580c400",
   "metadata": {},
   "outputs": [],
   "source": [
    "class Solution:\n",
    "    def findKthLargest(self, nums: List[int], k: int) -> int:\n",
    "        return sorted(nums, reverse=True)[k - 1]"
   ]
  }
 ],
 "metadata": {
  "kernelspec": {
   "display_name": "Python 3 (ipykernel)",
   "language": "python",
   "name": "python3"
  },
  "language_info": {
   "codemirror_mode": {
    "name": "ipython",
    "version": 3
   },
   "file_extension": ".py",
   "mimetype": "text/x-python",
   "name": "python",
   "nbconvert_exporter": "python",
   "pygments_lexer": "ipython3",
   "version": "3.9.13"
  }
 },
 "nbformat": 4,
 "nbformat_minor": 5
}
