{
 "cells": [
  {
   "cell_type": "code",
   "execution_count": null,
   "id": "e338b62b",
   "metadata": {},
   "outputs": [],
   "source": [
    "#Binary Tree Right Side View "
   ]
  },
  {
   "cell_type": "code",
   "execution_count": null,
   "id": "2fb09fd7",
   "metadata": {},
   "outputs": [],
   "source": [
    "class Solution:\n",
    "    def rightSideView(self, root: Optional[TreeNode]) -> List[int]:\n",
    "        queue = deque()\n",
    "\n",
    "        if root is None:\n",
    "            return []\n",
    "\n",
    "        if root.left is None and root.right is None:\n",
    "            return [root.val]\n",
    "\n",
    "        result = []\n",
    "        queue.append(root)\n",
    "        while queue:\n",
    "            new_queue = deque()\n",
    "            prev = -1\n",
    "            while queue:\n",
    "                curr = queue.popleft()\n",
    "                if curr.left is not None:\n",
    "                    new_queue.append(curr.left)\n",
    "                if curr.right is not None:\n",
    "                    new_queue.append(curr.right)\n",
    "                prev = curr\n",
    "            result.append(prev.val)\n",
    "            queue = new_queue\n",
    "        \n",
    "        return result"
   ]
  },
  {
   "cell_type": "code",
   "execution_count": null,
   "id": "b259baa8",
   "metadata": {},
   "outputs": [],
   "source": [
    "#Longest increasing path in a matrix"
   ]
  },
  {
   "cell_type": "code",
   "execution_count": null,
   "id": "8b80487b",
   "metadata": {},
   "outputs": [],
   "source": [
    "class Solution:\n",
    "    def longestIncreasingPath(self, matrix: List[List[int]]) -> int:\n",
    "        if not matrix:\n",
    "            return 0\n",
    "        rows, cols = len(matrix), len(matrix[0])\n",
    "        dp = [[0] * cols for i in range(rows)]\n",
    "\n",
    "        def dfs(i, j):\n",
    "            if not dp[i][j]:\n",
    "                val = matrix[i][j]\n",
    "                dp[i][j] = 1 + max(\n",
    "                    dfs(i - 1,j) if i and val > matrix[i - 1][j] else 0,\n",
    "                    dfs(i + 1,j) if i < rows - 1 and val > matrix[i + 1][j] else 0,\n",
    "                    dfs(i,j - 1) if j and val > matrix[i][j - 1] else 0,\n",
    "                    dfs(i,j + 1) if j < cols - 1 and val > matrix[i][j + 1] else 0\n",
    "                )\n",
    "\n",
    "            return dp[i][j]\n",
    "\n",
    "        for m in range(rows):\n",
    "            for n in range(cols):\n",
    "                dfs(m, n)\n",
    "        \n",
    "        return max(max(x) for x in dp)"
   ]
  },
  {
   "cell_type": "code",
   "execution_count": null,
   "id": "f84e1275",
   "metadata": {},
   "outputs": [],
   "source": [
    "#Kth Smallest Element in a BST "
   ]
  },
  {
   "cell_type": "code",
   "execution_count": null,
   "id": "48ce3029",
   "metadata": {},
   "outputs": [],
   "source": [
    "class Solution:\n",
    "    def kthSmallest(self, root: Optional[TreeNode], k: int) -> int:\n",
    "        stack = []\n",
    "        n = 0\n",
    "        temp = root\n",
    "\n",
    "        while temp or stack:\n",
    "            while temp:\n",
    "                stack.append(temp)\n",
    "                temp = temp.left\n",
    "            temp = stack.pop()\n",
    "            n += 1\n",
    "            if n == k: return temp.val\n",
    "            temp = temp.right\n",
    "\n",
    "        return -1"
   ]
  }
 ],
 "metadata": {
  "kernelspec": {
   "display_name": "Python 3 (ipykernel)",
   "language": "python",
   "name": "python3"
  },
  "language_info": {
   "codemirror_mode": {
    "name": "ipython",
    "version": 3
   },
   "file_extension": ".py",
   "mimetype": "text/x-python",
   "name": "python",
   "nbconvert_exporter": "python",
   "pygments_lexer": "ipython3",
   "version": "3.9.13"
  }
 },
 "nbformat": 4,
 "nbformat_minor": 5
}
