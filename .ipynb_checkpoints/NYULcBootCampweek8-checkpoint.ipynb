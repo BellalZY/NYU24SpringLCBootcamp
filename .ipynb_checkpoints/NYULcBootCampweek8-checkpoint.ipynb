{
 "cells": [
  {
   "cell_type": "code",
   "execution_count": null,
   "id": "7b9af79a",
   "metadata": {},
   "outputs": [],
   "source": [
    "#Partition equal subset sum"
   ]
  },
  {
   "cell_type": "code",
   "execution_count": null,
   "id": "bd85c563",
   "metadata": {},
   "outputs": [],
   "source": [
    "class Solution:\n",
    "    def canPartition(self, nums: List[int]) -> bool:\n",
    "        dp, s = set([0]), sum(nums)\n",
    "        if s%2 == 1 : return False\n",
    "        for num in nums:\n",
    "            for curr in range((int)(s/2), num-1, -1):\n",
    "                if curr not in dp and curr - num in dp:\n",
    "                    if curr == (int)(s/2):\n",
    "                        return True\n",
    "                    dp.add(curr)\n",
    "        return False"
   ]
  },
  {
   "cell_type": "code",
   "execution_count": null,
   "id": "18c831a3",
   "metadata": {},
   "outputs": [],
   "source": [
    "#Coin Change"
   ]
  },
  {
   "cell_type": "code",
   "execution_count": null,
   "id": "ae406dfc",
   "metadata": {},
   "outputs": [],
   "source": [
    "class Solution:\n",
    "    def coinChange(self, coins: List[int], amount: int) -> int:        \n",
    "        dp=[math.inf] * (amount+1)\n",
    "        dp[0]=0\n",
    "        \n",
    "        for coin in coins:\n",
    "            for i in range(coin, amount+1):\n",
    "                if i-coin>=0:\n",
    "                    dp[i]=min(dp[i], dp[i-coin]+1)\n",
    "        \n",
    "        return -1 if dp[-1]==math.inf else dp[-1]\n",
    "                "
   ]
  },
  {
   "cell_type": "code",
   "execution_count": null,
   "id": "ed28ce95",
   "metadata": {},
   "outputs": [],
   "source": [
    "#Maximum Subarray"
   ]
  },
  {
   "cell_type": "code",
   "execution_count": null,
   "id": "ff0577d7",
   "metadata": {},
   "outputs": [],
   "source": [
    "class Solution:\n",
    "    def maxSubArray(self, nums: List[int]) -> int:\n",
    "        maxSum,curr = nums[0], nums[0]\n",
    "\n",
    "        for idx in range(1, len(nums)):\n",
    "            curr = max(curr + nums[idx], nums[idx])\n",
    "            maxSum = max(maxSum, curr)\n",
    "\n",
    "        return maxSum"
   ]
  }
 ],
 "metadata": {
  "kernelspec": {
   "display_name": "Python 3 (ipykernel)",
   "language": "python",
   "name": "python3"
  },
  "language_info": {
   "codemirror_mode": {
    "name": "ipython",
    "version": 3
   },
   "file_extension": ".py",
   "mimetype": "text/x-python",
   "name": "python",
   "nbconvert_exporter": "python",
   "pygments_lexer": "ipython3",
   "version": "3.9.13"
  }
 },
 "nbformat": 4,
 "nbformat_minor": 5
}
