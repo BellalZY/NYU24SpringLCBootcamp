{
 "cells": [
  {
   "cell_type": "code",
   "execution_count": null,
   "id": "e1aae51b",
   "metadata": {},
   "outputs": [],
   "source": [
    "#1. Bus-routes"
   ]
  },
  {
   "cell_type": "code",
   "execution_count": null,
   "id": "a623ca67",
   "metadata": {},
   "outputs": [],
   "source": [
    "class Solution:\n",
    "    def numBusesToDestination(self, routes: List[List[int]], source: int, target: int) -> int:\n",
    "        if source == target: return 0\n",
    "        \n",
    "        stop_max = max(max(route) for route in routes)\n",
    "        if stop_max < target or stop_max < source: return -1\n",
    "        \n",
    "        n = len(routes)\n",
    "        min_stop_table = [float('inf')] * (stop_max + 1)\n",
    "        min_stop_table[source] = 0\n",
    "\n",
    "        flag = True\n",
    "        while flag:\n",
    "            flag = False\n",
    "            for route in routes:\n",
    "                min_stop = float('inf')\n",
    "                for stop in route:\n",
    "                    min_stop = min(min_stop, min_stop_table[stop]) \n",
    "                min_stop += 1\n",
    "                for stop in route:\n",
    "                    if min_stop < min_stop_table[stop]:\n",
    "                        min_stop_table[stop] = min_stop\n",
    "                        flag = True\n",
    "        return min_stop_table[target] if min_stop_table[target] < float('inf') else -1\n"
   ]
  },
  {
   "cell_type": "code",
   "execution_count": null,
   "id": "048064c0",
   "metadata": {},
   "outputs": [],
   "source": [
    "#2. Decode-string"
   ]
  },
  {
   "cell_type": "code",
   "execution_count": null,
   "id": "1ae20952",
   "metadata": {},
   "outputs": [],
   "source": [
    "class Solution:\n",
    "    def decodeString(self, s: str) -> str:\n",
    "        stack = []\n",
    "        curNum = 0\n",
    "        curString = ''\n",
    "        for c in s:\n",
    "            if c == '[':\n",
    "                stack.append(curString)\n",
    "                stack.append(curNum)\n",
    "                curNum = 0\n",
    "                curString = ''\n",
    "            elif c == ']':\n",
    "                num = stack.pop()\n",
    "                prev = stack.pop()\n",
    "                curString = prev + curString * num\n",
    "            elif c.isdigit():\n",
    "                curNum = curNum*10 + int(c)\n",
    "            else:\n",
    "                curString += c\n",
    "        return curString"
   ]
  },
  {
   "cell_type": "code",
   "execution_count": null,
   "id": "8612b434",
   "metadata": {},
   "outputs": [],
   "source": [
    "#3. Number-of-people-aware-of-a-secret"
   ]
  },
  {
   "cell_type": "code",
   "execution_count": null,
   "id": "558e3e8b",
   "metadata": {},
   "outputs": [],
   "source": [
    "class Solution:\n",
    "    def peopleAwareOfSecret(self, n: int, d: int, f: int) -> int:\n",
    "        dp, mod = [1] + [0] * (f - 1), 10**9 + 7\n",
    "        for i in range(1, n):\n",
    "            dp[i % f] = (mod + dp[(i + f - d) % f] - dp[i % f] + (0 if i == 1 else dp[(i - 1) % f])) % mod\n",
    "        return sum(dp) % mod"
   ]
  }
 ],
 "metadata": {
  "kernelspec": {
   "display_name": "Python 3 (ipykernel)",
   "language": "python",
   "name": "python3"
  },
  "language_info": {
   "codemirror_mode": {
    "name": "ipython",
    "version": 3
   },
   "file_extension": ".py",
   "mimetype": "text/x-python",
   "name": "python",
   "nbconvert_exporter": "python",
   "pygments_lexer": "ipython3",
   "version": "3.9.13"
  }
 },
 "nbformat": 4,
 "nbformat_minor": 5
}
