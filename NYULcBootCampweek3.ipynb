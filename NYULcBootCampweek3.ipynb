{
 "cells": [
  {
   "cell_type": "code",
   "execution_count": null,
   "id": "c930904e",
   "metadata": {},
   "outputs": [],
   "source": [
    "#1. Middle of the Linked List"
   ]
  },
  {
   "cell_type": "code",
   "execution_count": null,
   "id": "018e5acc",
   "metadata": {},
   "outputs": [],
   "source": [
    "class Solution:\n",
    "    def middleNode(self, head: Optional[ListNode]) -> Optional[ListNode]:\n",
    "        fast, slow = head, head\n",
    "        while fast is not None and fast.next is not None:\n",
    "            fast = fast.next.next\n",
    "            slow = slow.next\n",
    "\n",
    "        return slow\n",
    "        "
   ]
  },
  {
   "cell_type": "code",
   "execution_count": null,
   "id": "b4749a1e",
   "metadata": {},
   "outputs": [],
   "source": [
    "# 2. Reverse nodes in k-group "
   ]
  },
  {
   "cell_type": "code",
   "execution_count": null,
   "id": "d4653cbe",
   "metadata": {},
   "outputs": [],
   "source": [
    "class Solution:\n",
    "    def getLen(self, head:Optional[ListNode]):\n",
    "        len = 0\n",
    "        next = head\n",
    "        while next is not None:\n",
    "            len += 1\n",
    "            next = next.next\n",
    "        return len\n",
    "\n",
    "    def reverseSingle(self, head, k, len):\n",
    "        if k > len:\n",
    "            return head\n",
    "        curr, prev, next = head, None, None\n",
    "        count = 0\n",
    "        while count < k:\n",
    "            next = curr.next\n",
    "            curr.next = prev\n",
    "            prev = curr\n",
    "            curr = next\n",
    "            count += 1\n",
    "        if next:\n",
    "            head.next = self.reverseSingle(next, k, len - k)\n",
    "        return prev\n",
    "    def reverseKGroup(self, head: Optional[ListNode], k: int) -> Optional[ListNode]:\n",
    "        len = self.getLen(head)\n",
    "        return self.reverseSingle(head, k, len)"
   ]
  },
  {
   "cell_type": "code",
   "execution_count": null,
   "id": "0da36bb8",
   "metadata": {},
   "outputs": [],
   "source": [
    "# 3. Valid Sudoku"
   ]
  },
  {
   "cell_type": "code",
   "execution_count": null,
   "id": "5a4aeec5",
   "metadata": {},
   "outputs": [],
   "source": [
    "class Solution:\n",
    "    def isValidSudoku(self, board: List[List[str]]) -> bool:\n",
    "        for i in range(9):\n",
    "            for j in range(9):\n",
    "                if board[i][j] != \".\":\n",
    "                    target = board[i][j]\n",
    "                    target_i, target_j = i, j\n",
    "                else:\n",
    "                    continue\n",
    "\n",
    "                for row in range(9):\n",
    "                    if row == target_i: continue\n",
    "                    else:\n",
    "                        if target == board[row][target_j]:\n",
    "                            return False\n",
    "\n",
    "                for col in range(9):\n",
    "                    if col == target_j: continue\n",
    "                    else:\n",
    "                        if target == board[target_i][col]:\n",
    "                            return False\n",
    "\n",
    "                for m in range(9):\n",
    "                    for n in range(9):\n",
    "                        if m == target_i and n == target_j: continue\n",
    "                        else:\n",
    "                            if m // 3 == target_i // 3 and n // 3 == target_j //3:\n",
    "                                if target == board[m][n]: \n",
    "                                    return False\n",
    "        return True"
   ]
  }
 ],
 "metadata": {
  "kernelspec": {
   "display_name": "Python 3 (ipykernel)",
   "language": "python",
   "name": "python3"
  },
  "language_info": {
   "codemirror_mode": {
    "name": "ipython",
    "version": 3
   },
   "file_extension": ".py",
   "mimetype": "text/x-python",
   "name": "python",
   "nbconvert_exporter": "python",
   "pygments_lexer": "ipython3",
   "version": "3.9.13"
  }
 },
 "nbformat": 4,
 "nbformat_minor": 5
}
