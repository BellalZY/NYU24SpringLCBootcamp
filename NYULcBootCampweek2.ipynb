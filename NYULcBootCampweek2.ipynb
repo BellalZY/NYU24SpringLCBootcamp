{
 "cells": [
  {
   "cell_type": "code",
   "execution_count": null,
   "id": "4a4b5441",
   "metadata": {},
   "outputs": [],
   "source": [
    "#String to integer atoi "
   ]
  },
  {
   "cell_type": "code",
   "execution_count": null,
   "id": "07ec42f5",
   "metadata": {},
   "outputs": [],
   "source": [
    "class Solution:\n",
    "    def myAtoi(self, s: str) -> int:\n",
    "        new_s = s.strip()\n",
    "        i, result, sign = 0, 0, 1\n",
    "        if i < len(new_s) and (new_s[i] == '-' or new_s[i] == '+'):\n",
    "            if(new_s[i] == '-'):\n",
    "                sign = -sign\n",
    "            i += 1\n",
    "        while i < len(new_s) and new_s[i].isdigit():\n",
    "            num = int(new_s[i])\n",
    "            if result > (2**31 - 1 - num) // 10:\n",
    "                return 2**31 - 1 if sign == 1 else -2**31\n",
    "            result = result * 10 + num\n",
    "            i += 1\n",
    "        return result * sign"
   ]
  },
  {
   "cell_type": "code",
   "execution_count": null,
   "id": "4a68f121",
   "metadata": {},
   "outputs": [],
   "source": [
    "# Longest repeating character replacement "
   ]
  },
  {
   "cell_type": "code",
   "execution_count": null,
   "id": "62a741f2",
   "metadata": {},
   "outputs": [],
   "source": [
    "class Solution(object):\n",
    "    def characterReplacement(self, s, k):\n",
    "        maxlen, largestCount = 0, 0\n",
    "        arr = collections.Counter()\n",
    "        for idx in xrange(len(s)):\n",
    "            arr[s[idx]] += 1\n",
    "            largestCount = max(largestCount, arr[s[idx]])\n",
    "            if maxlen - largestCount >= k:\n",
    "                arr[s[idx - maxlen]] -= 1\n",
    "            else:\n",
    "                maxlen += 1\n",
    "        return maxlen"
   ]
  },
  {
   "cell_type": "code",
   "execution_count": null,
   "id": "af5f2ce3",
   "metadata": {},
   "outputs": [],
   "source": [
    "# 336. Palindrome Pairs\n",
    "# I think it is too hard for me (at the level right now) to solve it in python in time, so I left it blank. \n",
    "# I will figure out later"
   ]
  }
 ],
 "metadata": {
  "kernelspec": {
   "display_name": "Python 3 (ipykernel)",
   "language": "python",
   "name": "python3"
  },
  "language_info": {
   "codemirror_mode": {
    "name": "ipython",
    "version": 3
   },
   "file_extension": ".py",
   "mimetype": "text/x-python",
   "name": "python",
   "nbconvert_exporter": "python",
   "pygments_lexer": "ipython3",
   "version": "3.9.13"
  }
 },
 "nbformat": 4,
 "nbformat_minor": 5
}
