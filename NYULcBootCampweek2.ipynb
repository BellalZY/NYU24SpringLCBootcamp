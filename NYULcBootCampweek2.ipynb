{
 "cells": [
  {
   "cell_type": "code",
   "execution_count": null,
   "id": "4a4b5441",
   "metadata": {},
   "outputs": [],
   "source": [
    "#String to integer atoi "
   ]
  },
  {
   "cell_type": "code",
   "execution_count": null,
   "id": "07ec42f5",
   "metadata": {},
   "outputs": [],
   "source": [
    "class Solution:\n",
    "    def myAtoi(self, s: str) -> int:\n",
    "        new_s = s.strip()\n",
    "        i, result, sign = 0, 0, 1\n",
    "        if i < len(new_s) and (new_s[i] == '-' or new_s[i] == '+'):\n",
    "            if(new_s[i] == '-'):\n",
    "                sign = -sign\n",
    "            i += 1\n",
    "        while i < len(new_s) and new_s[i].isdigit():\n",
    "            num = int(new_s[i])\n",
    "            if result > (2**31 - 1 - num) // 10:\n",
    "                return 2**31 - 1 if sign == 1 else -2**31\n",
    "            result = result * 10 + num\n",
    "            i += 1\n",
    "        return result * sign"
   ]
  },
  {
   "cell_type": "code",
   "execution_count": null,
   "id": "4a68f121",
   "metadata": {},
   "outputs": [],
   "source": [
    "# Longest repeating character replacement "
   ]
  },
  {
   "cell_type": "code",
   "execution_count": null,
   "id": "62a741f2",
   "metadata": {},
   "outputs": [],
   "source": [
    "class Solution:\n",
    "    def characterReplacement(self, s: str, k: int) -> int:\n",
    "        counter = Counter()\n",
    "        largestElem, maxLen, beg = 0,0,0\n",
    "        for i in range(len(s)):\n",
    "            counter[s[i]] += 1\n",
    "            largestElem = max(largestElem, counter[s[i]])\n",
    "            if i - beg + 1 - largestElem > k:\n",
    "                counter[s[beg]] -= 1\n",
    "                beg += 1\n",
    "            maxLen = max(maxLen, i - beg + 1)\n",
    "        return maxLen\n",
    "        "
   ]
  },
  {
   "cell_type": "code",
   "execution_count": null,
   "id": "af5f2ce3",
   "metadata": {},
   "outputs": [],
   "source": [
    "# 336. Palindrome Pairs"
   ]
  },
  {
   "cell_type": "code",
   "execution_count": null,
   "id": "9bd63d5c",
   "metadata": {},
   "outputs": [],
   "source": []
  }
 ],
 "metadata": {
  "kernelspec": {
   "display_name": "Python 3 (ipykernel)",
   "language": "python",
   "name": "python3"
  },
  "language_info": {
   "codemirror_mode": {
    "name": "ipython",
    "version": 3
   },
   "file_extension": ".py",
   "mimetype": "text/x-python",
   "name": "python",
   "nbconvert_exporter": "python",
   "pygments_lexer": "ipython3",
   "version": "3.9.13"
  }
 },
 "nbformat": 4,
 "nbformat_minor": 5
}
