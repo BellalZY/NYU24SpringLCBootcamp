{
 "cells": [
  {
   "cell_type": "code",
   "execution_count": 2,
   "id": "bf0597c2",
   "metadata": {},
   "outputs": [],
   "source": [
    "from typing import List"
   ]
  },
  {
   "cell_type": "code",
   "execution_count": null,
   "id": "24aa2161",
   "metadata": {},
   "outputs": [],
   "source": [
    "# Contains Duplicate(Easy)"
   ]
  },
  {
   "cell_type": "code",
   "execution_count": 3,
   "id": "8f4a195c",
   "metadata": {},
   "outputs": [],
   "source": [
    "class Solution:\n",
    "    def containsDuplicate(self, nums: List[int]) -> bool:\n",
    "        nums.sort()\n",
    "        for i in range(1, len(nums)):\n",
    "            if(nums[i] == nums[i - 1]): return True\n",
    "        return False"
   ]
  },
  {
   "cell_type": "code",
   "execution_count": 4,
   "id": "24bb4f69",
   "metadata": {},
   "outputs": [],
   "source": [
    "# Video Stitching(Medium)"
   ]
  },
  {
   "cell_type": "code",
   "execution_count": 5,
   "id": "bc63e01a",
   "metadata": {},
   "outputs": [],
   "source": [
    "class Solution:\n",
    "    def videoStitching(self, clips: List[List[int]], time: int) -> int:\n",
    "        res, lastend, end = 0, -1, 0\n",
    "        for x, y in sorted(clips):\n",
    "            if end >= time or x > end:\n",
    "                break\n",
    "            elif lastend < x <= end:\n",
    "                res, lastend = res+1, end\n",
    "            end = max(end, y)\n",
    "\n",
    "        return res if end >= time else -1"
   ]
  },
  {
   "cell_type": "code",
   "execution_count": 6,
   "id": "5a2f94c7",
   "metadata": {},
   "outputs": [],
   "source": [
    "# Container With Most Water(Medium)"
   ]
  },
  {
   "cell_type": "code",
   "execution_count": null,
   "id": "504bbb96",
   "metadata": {},
   "outputs": [],
   "source": [
    "class Solution:\n",
    "    def maxArea(self, height: List[int]) -> int:\n",
    "        left, right, maxArea = 0, len(height)-1, 0\n",
    "        while left < right:\n",
    "            min_height = min(height[left], height[right])\n",
    "            area = min_height * (right - left)\n",
    "            maxArea = max(area, maxArea)\n",
    "            if height[left] < height[right]: left += 1\n",
    "            else: right -= 1\n",
    "\n",
    "        return maxArea\n",
    "        "
   ]
  }
 ],
 "metadata": {
  "kernelspec": {
   "display_name": "Python 3 (ipykernel)",
   "language": "python",
   "name": "python3"
  },
  "language_info": {
   "codemirror_mode": {
    "name": "ipython",
    "version": 3
   },
   "file_extension": ".py",
   "mimetype": "text/x-python",
   "name": "python",
   "nbconvert_exporter": "python",
   "pygments_lexer": "ipython3",
   "version": "3.9.13"
  }
 },
 "nbformat": 4,
 "nbformat_minor": 5
}
